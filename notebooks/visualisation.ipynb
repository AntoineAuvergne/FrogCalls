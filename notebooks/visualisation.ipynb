{
 "cells": [
  {
   "cell_type": "markdown",
   "id": "collected-tribe",
   "metadata": {},
   "source": [
    "# SPLEX-Project 2020-2021\n",
    "-------\n",
    "## :frog: Step 1 : Visualisation of the dataset :frog:\n",
    "#### * Adrien Leroy and Antoine Auvergne\n",
    "\n",
    "\n",
    ":frog:"
   ]
  },
  {
   "cell_type": "code",
   "execution_count": null,
   "id": "every-greek",
   "metadata": {},
   "outputs": [],
   "source": []
  }
 ],
 "metadata": {
  "kernelspec": {
   "display_name": "Python 3",
   "language": "python",
   "name": "python3"
  },
  "language_info": {
   "codemirror_mode": {
    "name": "ipython",
    "version": 3
   },
   "file_extension": ".py",
   "mimetype": "text/x-python",
   "name": "python",
   "nbconvert_exporter": "python",
   "pygments_lexer": "ipython3",
   "version": "3.9.1"
  }
 },
 "nbformat": 4,
 "nbformat_minor": 5
}
