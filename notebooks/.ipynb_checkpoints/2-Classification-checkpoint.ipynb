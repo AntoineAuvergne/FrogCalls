{
 "cells": [
  {
   "cell_type": "markdown",
   "id": "cloudy-development",
   "metadata": {},
   "source": [
    "# SPLEX-Project 2020-2021 : Frog Calls \n",
    "-------\n",
    "## 🐸 Step 2 : Predictory and classifications analysis of dataset 🐸\n",
    "#### *Adrien Leroy and Antoine Auvergne*"
   ]
  },
  {
   "cell_type": "code",
   "execution_count": 2,
   "id": "competent-escape",
   "metadata": {},
   "outputs": [],
   "source": [
    "import numpy as np\n",
    "import pandas as pd \n",
    "import matplotlib.pyplot as plt\n",
    "from sklearn.ensemble import "
   ]
  },
  {
   "cell_type": "code",
   "execution_count": null,
   "id": "chief-tourist",
   "metadata": {},
   "outputs": [],
   "source": [
    "ensemble."
   ]
  }
 ],
 "metadata": {
  "kernelspec": {
   "display_name": "env_frog",
   "language": "python",
   "name": "env_frog"
  },
  "language_info": {
   "codemirror_mode": {
    "name": "ipython",
    "version": 3
   },
   "file_extension": ".py",
   "mimetype": "text/x-python",
   "name": "python",
   "nbconvert_exporter": "python",
   "pygments_lexer": "ipython3",
   "version": "3.8.7"
  }
 },
 "nbformat": 4,
 "nbformat_minor": 5
}
